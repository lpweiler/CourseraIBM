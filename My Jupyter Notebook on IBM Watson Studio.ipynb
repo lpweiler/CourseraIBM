{
 "cells": [
  {
   "cell_type": "markdown",
   "id": "14bc9cd0-ee93-49cc-9725-dec1935852f5",
   "metadata": {},
   "source": [
    "# My Jupyter Notebook on IBM Watson Studio\n"
   ]
  },
  {
   "cell_type": "markdown",
   "id": "60fdf48b-4011-4231-8d49-cd854af16fdf",
   "metadata": {},
   "source": [
    "**Luiz Paulo Weiler de Oliveira**\n",
    "\n",
    "Logistics Tech Manager"
   ]
  },
  {
   "cell_type": "markdown",
   "id": "0c79440c-82d0-4a10-be8a-a43fab3c93a5",
   "metadata": {},
   "source": [
    "*I am interested in data science because it will give me the tools I need to analyse processes and look for improvement opportunities*"
   ]
  },
  {
   "cell_type": "markdown",
   "id": "340339fc-d22d-489b-9e00-40b7a111e0f0",
   "metadata": {},
   "source": [
    "### My code is supposed to print ‘Hello World’"
   ]
  },
  {
   "cell_type": "code",
   "execution_count": 2,
   "id": "f2b5dd7f-520a-4248-85cd-26834089b60a",
   "metadata": {},
   "outputs": [
    {
     "name": "stdout",
     "output_type": "stream",
     "text": [
      "Hello World!\n"
     ]
    }
   ],
   "source": [
    "print(\"Hello World!\")"
   ]
  },
  {
   "cell_type": "markdown",
   "id": "4cc5e180-280b-4137-9f54-27b206aa2b5b",
   "metadata": {},
   "source": [
    "1. Ordered\n",
    "2. Numbered\n",
    "3. List\n",
    "\n",
    "\n",
    "<blockquote>Blocked quote</blockquote>\n",
    "\n",
    "\n",
    "- Unordered\n",
    "- Bullet\n",
    "- List\n",
    "\n",
    "\n",
    "<a> https://www.google.com > Link to Google</a>\n",
    "\n",
    "\n",
    "|Column 1|Column 2| Column 3|\n",
    "|---|---|---|\n",
    "|L1C1|L1C2|L1C3|\n",
    "|L2C1|L2C2|L2C3|\n"
   ]
  }
 ],
 "metadata": {
  "kernelspec": {
   "display_name": "Python",
   "language": "python",
   "name": "conda-env-python-py"
  },
  "language_info": {
   "codemirror_mode": {
    "name": "ipython",
    "version": 3
   },
   "file_extension": ".py",
   "mimetype": "text/x-python",
   "name": "python",
   "nbconvert_exporter": "python",
   "pygments_lexer": "ipython3",
   "version": "3.7.12"
  }
 },
 "nbformat": 4,
 "nbformat_minor": 5
}
